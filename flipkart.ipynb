{
 "cells": [
  {
   "cell_type": "code",
   "execution_count": null,
   "id": "4d699724-6a80-4c64-a42c-fd94226240be",
   "metadata": {},
   "outputs": [],
   "source": [
    "from selenium import webdriver\n",
    "from selenium.webdriver.support.ui import WebDriverWait\n",
    "from selenium.webdriver.support import expected_conditions as EC\n",
    "import pywhatkit\n",
    "from selenium.webdriver.chrome.options import Options\n",
    "from datetime import datetime"
   ]
  },
  {
   "cell_type": "code",
   "execution_count": null,
   "id": "6b53916c-f925-47ba-8e0f-c57f04bdbb0b",
   "metadata": {},
   "outputs": [],
   "source": [
    "from selenium import webdriver\n",
    "from selenium.webdriver.support.ui import WebDriverWait\n",
    "import time\n",
    "from selenium.webdriver.common.by import By\n",
    "from selenium.webdriver.common.keys import Keys"
   ]
  },
  {
   "cell_type": "code",
   "execution_count": null,
   "id": "eac0f1f0-5cdc-497e-8fa2-563b83d8ef07",
   "metadata": {},
   "outputs": [],
   "source": [
    "chrome_data_path = \"D:\\\\UserData\" #example : D:\\\\UserData , used to maintain login session"
   ]
  },
  {
   "cell_type": "code",
   "execution_count": null,
   "id": "527da4ee-9ba6-401c-a686-2a49e0ad3623",
   "metadata": {
    "scrolled": true
   },
   "outputs": [],
   "source": [
    "opti = webdriver.ChromeOptions()\n",
    "opti.add_argument(r\"--user-data-dir=\"+chrome_data_path)\n",
    "opti.add_argument(r'--profile-directory=Profile 3') #PROFILE NAME\n",
    "opti.add_argument(\"--start-minimized\") \n",
    "opti.binary_location = \"D:\\\\Chrome\\\\Application\\\\chrome.exe\" #CHROME BINARY LOCATION\n",
    "browser = webdriver.Chrome(options=opti)\n",
    "\n",
    "multiple_products = [\"https://www.flipkart.com/apple-2024-ipad-air-m2-512-gb-rom-13-0-inch-wi-fi-only-purple/p/itm41ef927dd4161?pid=TABHYZEYZEYHFX2M\",\"https://www.flipkart.com/apple-2024-ipad-air-m2-512-gb-rom-11-0-inch-wi-fi-5g-purple/p/itm29a8405f8bfe1?pid=TABHYZDZKN2ZR2NG\",\"https://www.flipkart.com/apple-2024-ipad-air-m2-1-tb-rom-11-0-inch-wi-fi-only-space-grey/p/itmbb4e4c243cdb9?pid=TABHYZDZTABQTUUG\",\"https://www.flipkart.com/apple-2024-ipad-pro-m4-1-tb-rom-13-0-inch-wi-fi-5g-space-black/p/itmd0cd6fc04c38e?pid=TABHYZEYC89RWCPN\"]\n",
    "single_product= \"\" #ENTER SINGLE PRODUCT LINK HERE\n",
    "googleDummy = \"https://www.google.com\"\n",
    "\n",
    "delay = 3 #DELAY IN SECONDS\n",
    "i=0\n",
    "iterMod = 100 #LOG EVERY 100 REFRESHES\n",
    "mpi = 0\n",
    "flag = 0\n",
    "msgurl = \"\"\n",
    "while True:\n",
    "    if i%2 == 0: #MULTI PRODUCT LIST IS CHECKED ALTERNATIVELY TO SINGLE PRODUCT. SINGLE PRODUCT HAS HIGHER PRIORITY\n",
    "        #MULTI PRODUCT check\n",
    "        browser.get(multiple_products[mpi])\n",
    "        mpi+=1\n",
    "        flag = 1\n",
    "        if mpi == len(multiple_products):\n",
    "            mpi=0\n",
    "        msgurl = multiple_products[mpi]\n",
    "    else:\n",
    "        browser.get(single_product)\n",
    "        flag = 2\n",
    "        msgurl = single_product\n",
    "        \n",
    "    time.sleep(delay)\n",
    "    inHT = browser.find_element(By.TAG_NAME,'body').get_attribute('innerHTML')\n",
    "\n",
    "    if inHT.find('Buy Now')>=0:\n",
    "        msg = \"\"\n",
    "        if flag==1:\n",
    "            msg = \"MULTIPLE PRODUCTS IN STOCK \"\n",
    "        elif flag==2:\n",
    "            msg = \"SINGLE PRODUCT IN STOCK \"\n",
    "        msg+=msgurl\n",
    "        pywhatkit.sendwhatmsg_instantly(\"+919999999999\", msg)\n",
    "        print(datetime.now(),\": IN STOCK. SENDING MESSAGE.\\n\")\n",
    "        if inHT.find('Login')>=0:\n",
    "            pywhatkit.sendwhatmsg_instantly(\"+919999999999\", \"HAVE TO RELOG NOW\") #ADD WHATSAPP NUMBER HERE\n",
    "        else:\n",
    "            browser.find_element(By.XPATH,\"//button[text() = 'Buy Now']\").click()\n",
    "            time.sleep(delay)\n",
    "            browser.find_element(By.XPATH,\"//button[text() = 'Deliver Here']\").click()\n",
    "            time.sleep(delay)\n",
    "            browser.find_element(By.XPATH,\"//button[text() = 'CONTINUE']\").click()\n",
    "            time.sleep(delay)\n",
    "            browser.find_element(By.XPATH,\"//button[text() = 'Accept & Continue']\").click()\n",
    "        \n",
    "        while True:\n",
    "            pywhatkit.sendwhatmsg_instantly(\"+919999999999\", msg) #ADD WHATSAPP NUMBER HERE\n",
    "            time.sleep(delay*5)\n",
    "    \n",
    "    elif i%iterMod==0:\n",
    "        print (datetime.now(),\": Not in stock. Refreshing.\\n\")\n",
    "    i=i+1\n"
   ]
  },
  {
   "cell_type": "code",
   "execution_count": null,
   "id": "89ebd0b8-2078-4a95-982f-ef5ad956b41b",
   "metadata": {},
   "outputs": [],
   "source": []
  },
  {
   "cell_type": "code",
   "execution_count": null,
   "id": "57a23c3b-63fe-4f1a-b6f6-7c863598e90b",
   "metadata": {},
   "outputs": [],
   "source": []
  },
  {
   "cell_type": "code",
   "execution_count": null,
   "id": "226f8ee8-72cf-4e0a-8b3c-c7eca33025ef",
   "metadata": {},
   "outputs": [],
   "source": []
  },
  {
   "cell_type": "code",
   "execution_count": null,
   "id": "3557809d-092a-4893-b8a8-9c4ef877931b",
   "metadata": {},
   "outputs": [],
   "source": []
  },
  {
   "cell_type": "code",
   "execution_count": null,
   "id": "b90b1d22-1e7a-4026-b4aa-6871ef8c42f7",
   "metadata": {},
   "outputs": [],
   "source": []
  },
  {
   "cell_type": "code",
   "execution_count": null,
   "id": "69963d42-e7c7-4a27-95ab-504fbe15c904",
   "metadata": {},
   "outputs": [],
   "source": []
  },
  {
   "cell_type": "code",
   "execution_count": null,
   "id": "5cae4c25-864e-4872-ab63-17808dd15a1b",
   "metadata": {},
   "outputs": [],
   "source": []
  },
  {
   "cell_type": "code",
   "execution_count": null,
   "id": "84336ca4-38bf-41cf-b925-8a334dcee872",
   "metadata": {},
   "outputs": [],
   "source": []
  },
  {
   "cell_type": "code",
   "execution_count": null,
   "id": "85241d3b-b7ed-4fb3-ad89-bd5b8a1bcbe6",
   "metadata": {},
   "outputs": [],
   "source": []
  },
  {
   "cell_type": "code",
   "execution_count": null,
   "id": "7dd0a53c-ef74-4aaa-88be-fa7150ceb522",
   "metadata": {},
   "outputs": [],
   "source": []
  },
  {
   "cell_type": "code",
   "execution_count": null,
   "id": "9484cbb4-b08d-4996-a780-402f659a3a33",
   "metadata": {},
   "outputs": [],
   "source": []
  },
  {
   "cell_type": "code",
   "execution_count": null,
   "id": "e9058a6f-7dd6-4737-a8c6-64a20f86bc23",
   "metadata": {},
   "outputs": [],
   "source": []
  },
  {
   "cell_type": "code",
   "execution_count": null,
   "id": "e8085bf8-e6d4-47d6-a416-26633cb8ded2",
   "metadata": {},
   "outputs": [],
   "source": []
  },
  {
   "cell_type": "code",
   "execution_count": null,
   "id": "b2c5f750-0283-40b0-8e22-ac207efca0b8",
   "metadata": {},
   "outputs": [],
   "source": []
  },
  {
   "cell_type": "code",
   "execution_count": null,
   "id": "d8d072dc-bc0e-4917-9eef-83e595750607",
   "metadata": {},
   "outputs": [],
   "source": []
  },
  {
   "cell_type": "code",
   "execution_count": null,
   "id": "d3e763c8-14ca-44d6-a6ab-0e8440ff0dd3",
   "metadata": {},
   "outputs": [],
   "source": []
  },
  {
   "cell_type": "code",
   "execution_count": null,
   "id": "dd2a77f8-6e12-45b4-b0d1-bdb1842a364d",
   "metadata": {},
   "outputs": [],
   "source": []
  },
  {
   "cell_type": "code",
   "execution_count": null,
   "id": "09747737-07b6-490f-a7b0-ec43942815f4",
   "metadata": {},
   "outputs": [],
   "source": []
  },
  {
   "cell_type": "code",
   "execution_count": null,
   "id": "9d01ba51-72b3-4c86-ac60-cb29954e4956",
   "metadata": {},
   "outputs": [],
   "source": []
  },
  {
   "cell_type": "code",
   "execution_count": null,
   "id": "e323567b-0bbe-4d98-af9f-19c9b2eaefa2",
   "metadata": {},
   "outputs": [],
   "source": []
  },
  {
   "cell_type": "code",
   "execution_count": null,
   "id": "788e6bb1-049d-4925-9403-3a1e437d41be",
   "metadata": {},
   "outputs": [],
   "source": []
  }
 ],
 "metadata": {
  "kernelspec": {
   "display_name": "Python 3 (ipykernel)",
   "language": "python",
   "name": "python3"
  },
  "language_info": {
   "codemirror_mode": {
    "name": "ipython",
    "version": 3
   },
   "file_extension": ".py",
   "mimetype": "text/x-python",
   "name": "python",
   "nbconvert_exporter": "python",
   "pygments_lexer": "ipython3",
   "version": "3.12.4"
  }
 },
 "nbformat": 4,
 "nbformat_minor": 5
}
